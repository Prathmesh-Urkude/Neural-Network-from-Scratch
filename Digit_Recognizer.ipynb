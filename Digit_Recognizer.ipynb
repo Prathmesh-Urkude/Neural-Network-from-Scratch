{
 "cells": [
  {
   "cell_type": "markdown",
   "id": "45eb7a92-b1f4-454a-9bb6-f9c7a1276018",
   "metadata": {},
   "source": [
    "# Digit Recogniser from Scratch"
   ]
  },
  {
   "cell_type": "markdown",
   "id": "c5309d64-5bbd-4d7a-8030-41293606fad2",
   "metadata": {},
   "source": [
    "### Import Libraries"
   ]
  },
  {
   "cell_type": "code",
   "execution_count": 3,
   "id": "d470de9a-4ab7-4ee0-baaf-eb87ce6047af",
   "metadata": {},
   "outputs": [],
   "source": [
    "import pandas as pd\n",
    "import numpy as np\n",
    "from matplotlib import pyplot as plt"
   ]
  },
  {
   "cell_type": "markdown",
   "id": "0cdf7fbf-6d5c-491e-b555-10a0868615a2",
   "metadata": {},
   "source": [
    "### Load Data"
   ]
  },
  {
   "cell_type": "code",
   "execution_count": 5,
   "id": "2fd1ab4f-96e1-4acc-be4e-3cafa8f5f0d9",
   "metadata": {},
   "outputs": [],
   "source": [
    "data = pd.read_csv(\"Digits.csv\")"
   ]
  },
  {
   "cell_type": "code",
   "execution_count": 6,
   "id": "375e30d6-5847-455f-a735-d7bd75fa7155",
   "metadata": {},
   "outputs": [
    {
     "data": {
      "text/html": [
       "<div>\n",
       "<style scoped>\n",
       "    .dataframe tbody tr th:only-of-type {\n",
       "        vertical-align: middle;\n",
       "    }\n",
       "\n",
       "    .dataframe tbody tr th {\n",
       "        vertical-align: top;\n",
       "    }\n",
       "\n",
       "    .dataframe thead th {\n",
       "        text-align: right;\n",
       "    }\n",
       "</style>\n",
       "<table border=\"1\" class=\"dataframe\">\n",
       "  <thead>\n",
       "    <tr style=\"text-align: right;\">\n",
       "      <th></th>\n",
       "      <th>label</th>\n",
       "      <th>pixel0</th>\n",
       "      <th>pixel1</th>\n",
       "      <th>pixel2</th>\n",
       "      <th>pixel3</th>\n",
       "      <th>pixel4</th>\n",
       "      <th>pixel5</th>\n",
       "      <th>pixel6</th>\n",
       "      <th>pixel7</th>\n",
       "      <th>pixel8</th>\n",
       "      <th>...</th>\n",
       "      <th>pixel774</th>\n",
       "      <th>pixel775</th>\n",
       "      <th>pixel776</th>\n",
       "      <th>pixel777</th>\n",
       "      <th>pixel778</th>\n",
       "      <th>pixel779</th>\n",
       "      <th>pixel780</th>\n",
       "      <th>pixel781</th>\n",
       "      <th>pixel782</th>\n",
       "      <th>pixel783</th>\n",
       "    </tr>\n",
       "  </thead>\n",
       "  <tbody>\n",
       "    <tr>\n",
       "      <th>0</th>\n",
       "      <td>1</td>\n",
       "      <td>0</td>\n",
       "      <td>0</td>\n",
       "      <td>0</td>\n",
       "      <td>0</td>\n",
       "      <td>0</td>\n",
       "      <td>0</td>\n",
       "      <td>0</td>\n",
       "      <td>0</td>\n",
       "      <td>0</td>\n",
       "      <td>...</td>\n",
       "      <td>0</td>\n",
       "      <td>0</td>\n",
       "      <td>0</td>\n",
       "      <td>0</td>\n",
       "      <td>0</td>\n",
       "      <td>0</td>\n",
       "      <td>0</td>\n",
       "      <td>0</td>\n",
       "      <td>0</td>\n",
       "      <td>0</td>\n",
       "    </tr>\n",
       "    <tr>\n",
       "      <th>1</th>\n",
       "      <td>0</td>\n",
       "      <td>0</td>\n",
       "      <td>0</td>\n",
       "      <td>0</td>\n",
       "      <td>0</td>\n",
       "      <td>0</td>\n",
       "      <td>0</td>\n",
       "      <td>0</td>\n",
       "      <td>0</td>\n",
       "      <td>0</td>\n",
       "      <td>...</td>\n",
       "      <td>0</td>\n",
       "      <td>0</td>\n",
       "      <td>0</td>\n",
       "      <td>0</td>\n",
       "      <td>0</td>\n",
       "      <td>0</td>\n",
       "      <td>0</td>\n",
       "      <td>0</td>\n",
       "      <td>0</td>\n",
       "      <td>0</td>\n",
       "    </tr>\n",
       "    <tr>\n",
       "      <th>2</th>\n",
       "      <td>1</td>\n",
       "      <td>0</td>\n",
       "      <td>0</td>\n",
       "      <td>0</td>\n",
       "      <td>0</td>\n",
       "      <td>0</td>\n",
       "      <td>0</td>\n",
       "      <td>0</td>\n",
       "      <td>0</td>\n",
       "      <td>0</td>\n",
       "      <td>...</td>\n",
       "      <td>0</td>\n",
       "      <td>0</td>\n",
       "      <td>0</td>\n",
       "      <td>0</td>\n",
       "      <td>0</td>\n",
       "      <td>0</td>\n",
       "      <td>0</td>\n",
       "      <td>0</td>\n",
       "      <td>0</td>\n",
       "      <td>0</td>\n",
       "    </tr>\n",
       "    <tr>\n",
       "      <th>3</th>\n",
       "      <td>4</td>\n",
       "      <td>0</td>\n",
       "      <td>0</td>\n",
       "      <td>0</td>\n",
       "      <td>0</td>\n",
       "      <td>0</td>\n",
       "      <td>0</td>\n",
       "      <td>0</td>\n",
       "      <td>0</td>\n",
       "      <td>0</td>\n",
       "      <td>...</td>\n",
       "      <td>0</td>\n",
       "      <td>0</td>\n",
       "      <td>0</td>\n",
       "      <td>0</td>\n",
       "      <td>0</td>\n",
       "      <td>0</td>\n",
       "      <td>0</td>\n",
       "      <td>0</td>\n",
       "      <td>0</td>\n",
       "      <td>0</td>\n",
       "    </tr>\n",
       "    <tr>\n",
       "      <th>4</th>\n",
       "      <td>0</td>\n",
       "      <td>0</td>\n",
       "      <td>0</td>\n",
       "      <td>0</td>\n",
       "      <td>0</td>\n",
       "      <td>0</td>\n",
       "      <td>0</td>\n",
       "      <td>0</td>\n",
       "      <td>0</td>\n",
       "      <td>0</td>\n",
       "      <td>...</td>\n",
       "      <td>0</td>\n",
       "      <td>0</td>\n",
       "      <td>0</td>\n",
       "      <td>0</td>\n",
       "      <td>0</td>\n",
       "      <td>0</td>\n",
       "      <td>0</td>\n",
       "      <td>0</td>\n",
       "      <td>0</td>\n",
       "      <td>0</td>\n",
       "    </tr>\n",
       "  </tbody>\n",
       "</table>\n",
       "<p>5 rows × 785 columns</p>\n",
       "</div>"
      ],
      "text/plain": [
       "   label  pixel0  pixel1  pixel2  pixel3  pixel4  pixel5  pixel6  pixel7  \\\n",
       "0      1       0       0       0       0       0       0       0       0   \n",
       "1      0       0       0       0       0       0       0       0       0   \n",
       "2      1       0       0       0       0       0       0       0       0   \n",
       "3      4       0       0       0       0       0       0       0       0   \n",
       "4      0       0       0       0       0       0       0       0       0   \n",
       "\n",
       "   pixel8  ...  pixel774  pixel775  pixel776  pixel777  pixel778  pixel779  \\\n",
       "0       0  ...         0         0         0         0         0         0   \n",
       "1       0  ...         0         0         0         0         0         0   \n",
       "2       0  ...         0         0         0         0         0         0   \n",
       "3       0  ...         0         0         0         0         0         0   \n",
       "4       0  ...         0         0         0         0         0         0   \n",
       "\n",
       "   pixel780  pixel781  pixel782  pixel783  \n",
       "0         0         0         0         0  \n",
       "1         0         0         0         0  \n",
       "2         0         0         0         0  \n",
       "3         0         0         0         0  \n",
       "4         0         0         0         0  \n",
       "\n",
       "[5 rows x 785 columns]"
      ]
     },
     "execution_count": 6,
     "metadata": {},
     "output_type": "execute_result"
    }
   ],
   "source": [
    "data.head()"
   ]
  },
  {
   "cell_type": "code",
   "execution_count": 7,
   "id": "c72c4a48-939c-4402-945a-c32545df08e7",
   "metadata": {},
   "outputs": [
    {
     "data": {
      "text/plain": [
       "(42000, 785)"
      ]
     },
     "execution_count": 7,
     "metadata": {},
     "output_type": "execute_result"
    }
   ],
   "source": [
    "data = np.array(data)\n",
    "data.shape"
   ]
  },
  {
   "cell_type": "code",
   "execution_count": 8,
   "id": "4f721b18-cb41-4706-8f98-a9478d1a6aed",
   "metadata": {},
   "outputs": [
    {
     "data": {
      "text/plain": [
       "array([[1, 0, 0, ..., 0, 0, 0],\n",
       "       [0, 0, 0, ..., 0, 0, 0],\n",
       "       [1, 0, 0, ..., 0, 0, 0],\n",
       "       ...,\n",
       "       [7, 0, 0, ..., 0, 0, 0],\n",
       "       [6, 0, 0, ..., 0, 0, 0],\n",
       "       [9, 0, 0, ..., 0, 0, 0]], dtype=int64)"
      ]
     },
     "execution_count": 8,
     "metadata": {},
     "output_type": "execute_result"
    }
   ],
   "source": [
    "data  #42000x785"
   ]
  },
  {
   "cell_type": "markdown",
   "id": "6137e3fb-4973-4e7f-a40a-8eecc9d8ae43",
   "metadata": {},
   "source": [
    "### Split Data into Training and Testing set"
   ]
  },
  {
   "cell_type": "code",
   "execution_count": 10,
   "id": "5d6de3a9-7469-42a2-9756-261ae46909a2",
   "metadata": {},
   "outputs": [],
   "source": [
    "m, n = data.shape"
   ]
  },
  {
   "cell_type": "code",
   "execution_count": 11,
   "id": "4c9cc8fd-9d21-4c9b-84a8-8533b96fc540",
   "metadata": {},
   "outputs": [],
   "source": [
    "np.random.shuffle(data)"
   ]
  },
  {
   "cell_type": "code",
   "execution_count": 12,
   "id": "0f24f108-6d1c-43df-8541-6945c8f0faa5",
   "metadata": {},
   "outputs": [],
   "source": [
    "data_test = data[0:1000].T    #785x1000\n",
    "data_train = data[1000:m].T   #785x41000"
   ]
  },
  {
   "cell_type": "code",
   "execution_count": 13,
   "id": "0b4c900c-f85a-478b-b2c4-dfd1b0531137",
   "metadata": {},
   "outputs": [],
   "source": [
    "Y_train = data_train[0]     #1x41000\n",
    "X_train = data_train[1:n]    #784x41000\n",
    "X_train = X_train / 255.0\n",
    "\n",
    "Y_test = data_test[0]       #1x1000\n",
    "X_test = data_test[1:n]      #784x1000\n",
    "X_test = X_test / 255.0"
   ]
  },
  {
   "cell_type": "code",
   "execution_count": 14,
   "id": "dbaa1de4-251d-4730-9546-8e56b6c759d9",
   "metadata": {},
   "outputs": [
    {
     "data": {
      "text/plain": [
       "array([5, 0, 8, ..., 7, 2, 6], dtype=int64)"
      ]
     },
     "execution_count": 14,
     "metadata": {},
     "output_type": "execute_result"
    }
   ],
   "source": [
    "Y_train"
   ]
  },
  {
   "cell_type": "code",
   "execution_count": null,
   "id": "d0da5e52-fb75-44d4-b1d3-348f7f210ea6",
   "metadata": {},
   "outputs": [],
   "source": []
  },
  {
   "cell_type": "markdown",
   "id": "1ddfa98c-6e6c-4bfb-998c-acb613735203",
   "metadata": {},
   "source": [
    "#### Input layer             => 784 inputs (28x28)pixels\n",
    "#### Hidden layer 1 (W1, b1) => 10 Neurons  => takes 784 inputs\n",
    "#### Hidden layer 2 (W1, b1) => 10 Neurons  => takes 10 inputs from previous layer\n",
    "#### Output layer            => 1 output    => highest probability from 10 outputs"
   ]
  },
  {
   "cell_type": "code",
   "execution_count": null,
   "id": "d4f1c789-7c9c-4c3f-829e-8a95f7060699",
   "metadata": {},
   "outputs": [],
   "source": []
  },
  {
   "cell_type": "markdown",
   "id": "1d1aa993-02a6-4fe9-a22f-97840fdedab5",
   "metadata": {},
   "source": [
    "### Initialize Parameters Randomly\n",
    "#### rand is used to get range of [0, 1]\n",
    "#### convert it into [-0.5, 0.5]"
   ]
  },
  {
   "cell_type": "code",
   "execution_count": 17,
   "id": "9886a154-a5d9-4f66-b80c-bbf3f4ef8d1f",
   "metadata": {},
   "outputs": [],
   "source": [
    "def init_params():\n",
    "    W1 = np.random.rand(10, 784) - 0.5     #10x784\n",
    "    b1 = np.random.rand(10, 1) - 0.5       #10x1\n",
    "    \n",
    "    W2 = np.random.rand(10, 10) - 0.5      #10x10\n",
    "    b2 = np.random.rand(10, 1) - 0.5       #10x1\n",
    "\n",
    "    return W1, b1, W2, b2                  # all in range of -0.5 to 0.5"
   ]
  },
  {
   "cell_type": "markdown",
   "id": "0c373ba1-b5fd-4f14-b25a-5c62b520b8b9",
   "metadata": {},
   "source": [
    "### Define ReLU and Softmax"
   ]
  },
  {
   "cell_type": "code",
   "execution_count": 19,
   "id": "f908b500-8179-43aa-819a-47b47525e575",
   "metadata": {},
   "outputs": [],
   "source": [
    "def ReLU(Z):\n",
    "    return np.maximum(Z, 0)"
   ]
  },
  {
   "cell_type": "code",
   "execution_count": 20,
   "id": "72042c64-f293-4b4e-8d45-79e725cf4054",
   "metadata": {},
   "outputs": [],
   "source": [
    "def softmax(Z):\n",
    "    e_z = np.exp(Z - np.max(Z, axis=0))                #For numerical stability\n",
    "    return e_z / np.sum(e_z, axis=0, keepdims=True)"
   ]
  },
  {
   "cell_type": "code",
   "execution_count": 21,
   "id": "5cf31885-f92e-44b5-b70a-8cacf9225dfc",
   "metadata": {},
   "outputs": [],
   "source": [
    "def deriv_ReLU(Z):          # derivative(i.e slope of the function) of ReLU function\n",
    "    return Z > 0            # i.e for x > 0 slope = 1  &  for x < 0 slope = 0"
   ]
  },
  {
   "cell_type": "markdown",
   "id": "d87ee57b-36ed-40ee-b1a0-8c89a425265a",
   "metadata": {},
   "source": [
    "### Forward Propagation"
   ]
  },
  {
   "cell_type": "code",
   "execution_count": 23,
   "id": "e5b3d243-986f-428f-a337-01ae9397a42c",
   "metadata": {},
   "outputs": [],
   "source": [
    "def forward_prop(W1, b1, W2, b2, X):       # m => sample size, rows , data\n",
    "    Z1 = W1.dot(X) + b1;                   #(10x784).(748xm) + (10x1) = (10xm) + (10x1) = (10xm)\n",
    "\n",
    "    A1 = ReLU(Z1)                          #(10xm)\n",
    "\n",
    "    Z2 = W2.dot(A1) + b2                   #(10x10).(10xm) +(10x1) = (10xm) + (10x1) = (10xm)\n",
    "\n",
    "    A2 = softmax(Z2)                       #(10xm)\n",
    "\n",
    "    return Z1, A1, Z2, A2"
   ]
  },
  {
   "cell_type": "code",
   "execution_count": null,
   "id": "8e61e5bb-8e6d-4452-b585-5da8670398e9",
   "metadata": {},
   "outputs": [],
   "source": []
  },
  {
   "cell_type": "code",
   "execution_count": 24,
   "id": "18a4cdea-d768-4b55-9a5b-eac1245fc686",
   "metadata": {},
   "outputs": [
    {
     "name": "stdout",
     "output_type": "stream",
     "text": [
      "[5 0 8 ... 7 2 6]\n",
      "41000\n",
      "9\n"
     ]
    }
   ],
   "source": [
    "print(Y_train)\n",
    "print(Y_train.size)\n",
    "print(Y_train.max())"
   ]
  },
  {
   "cell_type": "markdown",
   "id": "25d884bf-36a0-4893-aba3-ef70c3c42729",
   "metadata": {},
   "source": [
    "### Encode the labels"
   ]
  },
  {
   "cell_type": "code",
   "execution_count": 26,
   "id": "25ac980f-0f8a-4986-914c-52785a79d5da",
   "metadata": {},
   "outputs": [],
   "source": [
    "def one_hot(Y):\n",
    "    Y = Y.astype(int)                              # ensure Y is integer\n",
    "    one_hot_Y = np.zeros((Y.size, Y.max() + 1))    # mx10    # 10 is output size (0 to 9)\n",
    "    one_hot_Y[np.arange(Y.size), Y] = 1            # [for each row (0 to m), column number give by Y = 1 is marked\n",
    "\n",
    "    return one_hot_Y.T                             #10xm"
   ]
  },
  {
   "cell_type": "code",
   "execution_count": null,
   "id": "48081f60-02a4-48a8-8657-686f07635202",
   "metadata": {},
   "outputs": [],
   "source": []
  },
  {
   "cell_type": "markdown",
   "id": "41773e21-8aef-4f34-b9bc-b24c8632bf7d",
   "metadata": {},
   "source": [
    "### Back Propagation"
   ]
  },
  {
   "cell_type": "code",
   "execution_count": 28,
   "id": "9781d00d-428c-49fa-901c-7357fd080725",
   "metadata": {},
   "outputs": [],
   "source": [
    "def backward_prop(Z1, A1, Z2, A2, W1, W2, X, Y):\n",
    "\n",
    "    N = Y.size                                                         #size of data (41000 = m)\n",
    "\n",
    "    encoded_Y = one_hot(Y)                                             #10xm\n",
    "\n",
    "    dZ2 = A2 - encoded_Y                                               #(10xm) - (10xm) = (10xm)\n",
    "    dW2 = (1 / N) * dZ2.dot(A1.T)                                      #const (10xm).(10xm)T = (10xm).(mx10) = (10x10)\n",
    "    db2 = (1 / N) * np.sum(dZ2, axis=1, keepdims=True)                 #const (10x1)\n",
    "\n",
    "    dZ1 = W2.T.dot(dZ2) * deriv_ReLU(Z1)                               #(10x10)T.(10xm) * (10xm) = (10xm) * (10xm) = (10xm)\n",
    "    dW1 = (1 / N) * dZ1.dot(X.T)                                       #const (10xm).(784xm)T = (10x784)\n",
    "    db1 = (1 / N) * np.sum(dZ1, axis=1, keepdims=True)                 #const (10x1)\n",
    "\n",
    "    return dW1, db1, dW2, db2"
   ]
  },
  {
   "cell_type": "markdown",
   "id": "fe4f6e8f-1e6b-46da-b532-6272fc75205d",
   "metadata": {},
   "source": [
    "### Update Parameters\n",
    "#### after back propagation"
   ]
  },
  {
   "cell_type": "code",
   "execution_count": 30,
   "id": "25b9c5fa-ea88-4d37-8c8d-389073489bdd",
   "metadata": {},
   "outputs": [],
   "source": [
    "def update_params(W1, b1, W2, b2, dW1, db1, dW2, db2, alpha):\n",
    "    W1 = W1 - (alpha * dW1)             #(10x784)\n",
    "    b1 = b1 - (alpha * db1)             #(10x1)\n",
    "    W2 = W2 - (alpha * dW2)             #(10x10)\n",
    "    b2 = b2 - (alpha * db2)             #(10x1)\n",
    "\n",
    "    return W1, b1, W2, b2"
   ]
  },
  {
   "cell_type": "code",
   "execution_count": null,
   "id": "e39df0b7-042b-4cb9-93e8-5965e8aacc69",
   "metadata": {},
   "outputs": [],
   "source": []
  },
  {
   "cell_type": "code",
   "execution_count": 31,
   "id": "e8610c0a-ad5e-47b9-b9e2-23c379ad1b6a",
   "metadata": {},
   "outputs": [],
   "source": [
    "def get_accuracy(pred, Y):\n",
    "    return np.sum(pred == Y) / Y.size          # sum (no of correct prediction) / total size of data"
   ]
  },
  {
   "cell_type": "code",
   "execution_count": 32,
   "id": "1094acc8-a382-4031-b9f0-5e99b77e9ad3",
   "metadata": {},
   "outputs": [],
   "source": [
    "def get_predictions(Z):\n",
    "    return np.argmax(Z, 0)                     # for each column(example), (find highest possibility from an output of 10 elements) "
   ]
  },
  {
   "cell_type": "markdown",
   "id": "db3d0c51-8260-4cae-93b1-faa78d8e10b5",
   "metadata": {},
   "source": [
    "### Define Gradient Descent function For Neural Network"
   ]
  },
  {
   "cell_type": "code",
   "execution_count": 34,
   "id": "128c4d37-fab5-48dd-bed7-f89db4deb46a",
   "metadata": {},
   "outputs": [],
   "source": [
    "def gradient_descent(X, Y, epochs, alpha):                             # alpha = Learning Rate\n",
    "    W1, b1, W2, b2 = init_params()                                     # Initialize weights & biases randomly\n",
    "\n",
    "    for i in range(epochs):\n",
    "        Z1, A1, Z2, A2 = forward_prop(W1, b1, W2, b2, X)\n",
    "\n",
    "        dW1, db1, dW2, db2 = backward_prop(Z1, A1, Z2, A2, W1, W2, X, Y)\n",
    "\n",
    "        W1, b1, W2, b2 = update_params(W1, b1, W2, b2, dW1, db1, dW2, db2, alpha)\n",
    "\n",
    "        if(i % 10 == 0):\n",
    "            print(\"Iteration: \", i)\n",
    "            print(\"Accuracy: \", get_accuracy(get_predictions(A2), Y))\n",
    "\n",
    "    return W1, b1, W2, b2"
   ]
  },
  {
   "cell_type": "markdown",
   "id": "5df1800a-04ea-4413-8300-bce63e6c4df1",
   "metadata": {},
   "source": [
    "### Train the Neural Network"
   ]
  },
  {
   "cell_type": "code",
   "execution_count": 36,
   "id": "a17beecf-7536-4b23-9414-90db4087d28b",
   "metadata": {},
   "outputs": [],
   "source": [
    "Learning_rate = 0.1\n",
    "epochs = 3000"
   ]
  },
  {
   "cell_type": "code",
   "execution_count": 37,
   "id": "ca1b3a2a-781b-46fa-9aed-aa3a4aa218f2",
   "metadata": {},
   "outputs": [
    {
     "name": "stdout",
     "output_type": "stream",
     "text": [
      "Iteration:  0\n",
      "Accuracy:  0.07309756097560975\n",
      "Iteration:  10\n",
      "Accuracy:  0.13365853658536586\n",
      "Iteration:  20\n",
      "Accuracy:  0.18863414634146342\n",
      "Iteration:  30\n",
      "Accuracy:  0.24780487804878049\n",
      "Iteration:  40\n",
      "Accuracy:  0.3422439024390244\n",
      "Iteration:  50\n",
      "Accuracy:  0.401609756097561\n",
      "Iteration:  60\n",
      "Accuracy:  0.4435121951219512\n",
      "Iteration:  70\n",
      "Accuracy:  0.481\n",
      "Iteration:  80\n",
      "Accuracy:  0.5148780487804878\n",
      "Iteration:  90\n",
      "Accuracy:  0.5437073170731708\n",
      "Iteration:  100\n",
      "Accuracy:  0.5724634146341463\n",
      "Iteration:  110\n",
      "Accuracy:  0.5980487804878049\n",
      "Iteration:  120\n",
      "Accuracy:  0.6210243902439024\n",
      "Iteration:  130\n",
      "Accuracy:  0.6415365853658537\n",
      "Iteration:  140\n",
      "Accuracy:  0.6564878048780488\n",
      "Iteration:  150\n",
      "Accuracy:  0.6711463414634147\n",
      "Iteration:  160\n",
      "Accuracy:  0.6842439024390244\n",
      "Iteration:  170\n",
      "Accuracy:  0.6972195121951219\n",
      "Iteration:  180\n",
      "Accuracy:  0.7093658536585365\n",
      "Iteration:  190\n",
      "Accuracy:  0.7205365853658536\n",
      "Iteration:  200\n",
      "Accuracy:  0.7309268292682927\n",
      "Iteration:  210\n",
      "Accuracy:  0.7383170731707317\n",
      "Iteration:  220\n",
      "Accuracy:  0.7463658536585366\n",
      "Iteration:  230\n",
      "Accuracy:  0.7540975609756098\n",
      "Iteration:  240\n",
      "Accuracy:  0.7606341463414634\n",
      "Iteration:  250\n",
      "Accuracy:  0.7669268292682927\n",
      "Iteration:  260\n",
      "Accuracy:  0.772609756097561\n",
      "Iteration:  270\n",
      "Accuracy:  0.778219512195122\n",
      "Iteration:  280\n",
      "Accuracy:  0.7829024390243903\n",
      "Iteration:  290\n",
      "Accuracy:  0.7878536585365854\n",
      "Iteration:  300\n",
      "Accuracy:  0.7918780487804878\n",
      "Iteration:  310\n",
      "Accuracy:  0.7955609756097561\n",
      "Iteration:  320\n",
      "Accuracy:  0.7989512195121952\n",
      "Iteration:  330\n",
      "Accuracy:  0.8023658536585366\n",
      "Iteration:  340\n",
      "Accuracy:  0.8058048780487805\n",
      "Iteration:  350\n",
      "Accuracy:  0.8089512195121952\n",
      "Iteration:  360\n",
      "Accuracy:  0.8114146341463415\n",
      "Iteration:  370\n",
      "Accuracy:  0.8138048780487804\n",
      "Iteration:  380\n",
      "Accuracy:  0.8162195121951219\n",
      "Iteration:  390\n",
      "Accuracy:  0.8183170731707317\n",
      "Iteration:  400\n",
      "Accuracy:  0.8205365853658536\n",
      "Iteration:  410\n",
      "Accuracy:  0.8226097560975609\n",
      "Iteration:  420\n",
      "Accuracy:  0.8248292682926829\n",
      "Iteration:  430\n",
      "Accuracy:  0.8264390243902439\n",
      "Iteration:  440\n",
      "Accuracy:  0.8283170731707317\n",
      "Iteration:  450\n",
      "Accuracy:  0.8300731707317073\n",
      "Iteration:  460\n",
      "Accuracy:  0.8314634146341463\n",
      "Iteration:  470\n",
      "Accuracy:  0.8330243902439024\n",
      "Iteration:  480\n",
      "Accuracy:  0.8345853658536585\n",
      "Iteration:  490\n",
      "Accuracy:  0.8363414634146341\n",
      "Iteration:  500\n",
      "Accuracy:  0.8378048780487805\n",
      "Iteration:  510\n",
      "Accuracy:  0.8391463414634146\n",
      "Iteration:  520\n",
      "Accuracy:  0.840170731707317\n",
      "Iteration:  530\n",
      "Accuracy:  0.8417560975609756\n",
      "Iteration:  540\n",
      "Accuracy:  0.8431463414634146\n",
      "Iteration:  550\n",
      "Accuracy:  0.8442682926829268\n",
      "Iteration:  560\n",
      "Accuracy:  0.8456341463414634\n",
      "Iteration:  570\n",
      "Accuracy:  0.8464146341463414\n",
      "Iteration:  580\n",
      "Accuracy:  0.8478780487804878\n",
      "Iteration:  590\n",
      "Accuracy:  0.8487560975609756\n",
      "Iteration:  600\n",
      "Accuracy:  0.8498536585365853\n",
      "Iteration:  610\n",
      "Accuracy:  0.8508048780487805\n",
      "Iteration:  620\n",
      "Accuracy:  0.8514878048780488\n",
      "Iteration:  630\n",
      "Accuracy:  0.8522926829268292\n",
      "Iteration:  640\n",
      "Accuracy:  0.8532195121951219\n",
      "Iteration:  650\n",
      "Accuracy:  0.8538292682926829\n",
      "Iteration:  660\n",
      "Accuracy:  0.8547073170731707\n",
      "Iteration:  670\n",
      "Accuracy:  0.8556829268292683\n",
      "Iteration:  680\n",
      "Accuracy:  0.8567560975609756\n",
      "Iteration:  690\n",
      "Accuracy:  0.8577560975609756\n",
      "Iteration:  700\n",
      "Accuracy:  0.8585365853658536\n",
      "Iteration:  710\n",
      "Accuracy:  0.8591707317073171\n",
      "Iteration:  720\n",
      "Accuracy:  0.8599512195121951\n",
      "Iteration:  730\n",
      "Accuracy:  0.8604634146341463\n",
      "Iteration:  740\n",
      "Accuracy:  0.8610731707317073\n",
      "Iteration:  750\n",
      "Accuracy:  0.8619756097560975\n",
      "Iteration:  760\n",
      "Accuracy:  0.862780487804878\n",
      "Iteration:  770\n",
      "Accuracy:  0.8632439024390244\n",
      "Iteration:  780\n",
      "Accuracy:  0.8638048780487805\n",
      "Iteration:  790\n",
      "Accuracy:  0.8645609756097561\n",
      "Iteration:  800\n",
      "Accuracy:  0.8655609756097561\n",
      "Iteration:  810\n",
      "Accuracy:  0.8660731707317073\n",
      "Iteration:  820\n",
      "Accuracy:  0.8665609756097561\n",
      "Iteration:  830\n",
      "Accuracy:  0.8670975609756097\n",
      "Iteration:  840\n",
      "Accuracy:  0.8678536585365854\n",
      "Iteration:  850\n",
      "Accuracy:  0.8684634146341463\n",
      "Iteration:  860\n",
      "Accuracy:  0.869\n",
      "Iteration:  870\n",
      "Accuracy:  0.8697317073170732\n",
      "Iteration:  880\n",
      "Accuracy:  0.8702926829268293\n",
      "Iteration:  890\n",
      "Accuracy:  0.8705365853658537\n",
      "Iteration:  900\n",
      "Accuracy:  0.8711951219512195\n",
      "Iteration:  910\n",
      "Accuracy:  0.8718048780487805\n",
      "Iteration:  920\n",
      "Accuracy:  0.8723414634146341\n",
      "Iteration:  930\n",
      "Accuracy:  0.872780487804878\n",
      "Iteration:  940\n",
      "Accuracy:  0.8731951219512195\n",
      "Iteration:  950\n",
      "Accuracy:  0.8738780487804878\n",
      "Iteration:  960\n",
      "Accuracy:  0.8741951219512195\n",
      "Iteration:  970\n",
      "Accuracy:  0.8748292682926829\n",
      "Iteration:  980\n",
      "Accuracy:  0.875219512195122\n",
      "Iteration:  990\n",
      "Accuracy:  0.8756341463414634\n",
      "Iteration:  1000\n",
      "Accuracy:  0.8761463414634146\n",
      "Iteration:  1010\n",
      "Accuracy:  0.8764634146341463\n",
      "Iteration:  1020\n",
      "Accuracy:  0.8770243902439024\n",
      "Iteration:  1030\n",
      "Accuracy:  0.877390243902439\n",
      "Iteration:  1040\n",
      "Accuracy:  0.8777073170731707\n",
      "Iteration:  1050\n",
      "Accuracy:  0.8779512195121951\n",
      "Iteration:  1060\n",
      "Accuracy:  0.8781951219512195\n",
      "Iteration:  1070\n",
      "Accuracy:  0.8787317073170732\n",
      "Iteration:  1080\n",
      "Accuracy:  0.8791219512195122\n",
      "Iteration:  1090\n",
      "Accuracy:  0.8795853658536585\n",
      "Iteration:  1100\n",
      "Accuracy:  0.8798536585365854\n",
      "Iteration:  1110\n",
      "Accuracy:  0.8801463414634146\n",
      "Iteration:  1120\n",
      "Accuracy:  0.8806585365853659\n",
      "Iteration:  1130\n",
      "Accuracy:  0.8810243902439024\n",
      "Iteration:  1140\n",
      "Accuracy:  0.8813414634146342\n",
      "Iteration:  1150\n",
      "Accuracy:  0.8817073170731707\n",
      "Iteration:  1160\n",
      "Accuracy:  0.8819512195121951\n",
      "Iteration:  1170\n",
      "Accuracy:  0.8823414634146342\n",
      "Iteration:  1180\n",
      "Accuracy:  0.8825609756097561\n",
      "Iteration:  1190\n",
      "Accuracy:  0.8828536585365854\n",
      "Iteration:  1200\n",
      "Accuracy:  0.8832439024390244\n",
      "Iteration:  1210\n",
      "Accuracy:  0.8835365853658537\n",
      "Iteration:  1220\n",
      "Accuracy:  0.8837804878048781\n",
      "Iteration:  1230\n",
      "Accuracy:  0.884219512195122\n",
      "Iteration:  1240\n",
      "Accuracy:  0.8845365853658537\n",
      "Iteration:  1250\n",
      "Accuracy:  0.8849268292682927\n",
      "Iteration:  1260\n",
      "Accuracy:  0.8852926829268293\n",
      "Iteration:  1270\n",
      "Accuracy:  0.8855853658536585\n",
      "Iteration:  1280\n",
      "Accuracy:  0.8859756097560976\n",
      "Iteration:  1290\n",
      "Accuracy:  0.8864390243902439\n",
      "Iteration:  1300\n",
      "Accuracy:  0.8868292682926829\n",
      "Iteration:  1310\n",
      "Accuracy:  0.8870487804878049\n",
      "Iteration:  1320\n",
      "Accuracy:  0.8872926829268293\n",
      "Iteration:  1330\n",
      "Accuracy:  0.8875121951219512\n",
      "Iteration:  1340\n",
      "Accuracy:  0.8878536585365854\n",
      "Iteration:  1350\n",
      "Accuracy:  0.8881463414634146\n",
      "Iteration:  1360\n",
      "Accuracy:  0.8884878048780488\n",
      "Iteration:  1370\n",
      "Accuracy:  0.8888536585365854\n",
      "Iteration:  1380\n",
      "Accuracy:  0.889\n",
      "Iteration:  1390\n",
      "Accuracy:  0.8890975609756098\n",
      "Iteration:  1400\n",
      "Accuracy:  0.8894634146341464\n",
      "Iteration:  1410\n",
      "Accuracy:  0.8898048780487805\n",
      "Iteration:  1420\n",
      "Accuracy:  0.8901951219512195\n",
      "Iteration:  1430\n",
      "Accuracy:  0.890390243902439\n",
      "Iteration:  1440\n",
      "Accuracy:  0.8907560975609756\n",
      "Iteration:  1450\n",
      "Accuracy:  0.8910731707317073\n",
      "Iteration:  1460\n",
      "Accuracy:  0.8911219512195122\n",
      "Iteration:  1470\n",
      "Accuracy:  0.8914878048780488\n",
      "Iteration:  1480\n",
      "Accuracy:  0.8918048780487805\n",
      "Iteration:  1490\n",
      "Accuracy:  0.8920243902439025\n",
      "Iteration:  1500\n",
      "Accuracy:  0.892390243902439\n",
      "Iteration:  1510\n",
      "Accuracy:  0.8925853658536586\n",
      "Iteration:  1520\n",
      "Accuracy:  0.8927317073170732\n",
      "Iteration:  1530\n",
      "Accuracy:  0.8928780487804878\n",
      "Iteration:  1540\n",
      "Accuracy:  0.8930487804878049\n",
      "Iteration:  1550\n",
      "Accuracy:  0.8931219512195122\n",
      "Iteration:  1560\n",
      "Accuracy:  0.8932926829268293\n",
      "Iteration:  1570\n",
      "Accuracy:  0.8934878048780488\n",
      "Iteration:  1580\n",
      "Accuracy:  0.8936829268292683\n",
      "Iteration:  1590\n",
      "Accuracy:  0.8941219512195122\n",
      "Iteration:  1600\n",
      "Accuracy:  0.8943414634146342\n",
      "Iteration:  1610\n",
      "Accuracy:  0.8946829268292683\n",
      "Iteration:  1620\n",
      "Accuracy:  0.8948780487804878\n",
      "Iteration:  1630\n",
      "Accuracy:  0.8949024390243903\n",
      "Iteration:  1640\n",
      "Accuracy:  0.8951707317073171\n",
      "Iteration:  1650\n",
      "Accuracy:  0.8954878048780488\n",
      "Iteration:  1660\n",
      "Accuracy:  0.8957560975609756\n",
      "Iteration:  1670\n",
      "Accuracy:  0.8959268292682927\n",
      "Iteration:  1680\n",
      "Accuracy:  0.896\n",
      "Iteration:  1690\n",
      "Accuracy:  0.8962926829268293\n",
      "Iteration:  1700\n",
      "Accuracy:  0.8964634146341464\n",
      "Iteration:  1710\n",
      "Accuracy:  0.8965365853658537\n",
      "Iteration:  1720\n",
      "Accuracy:  0.8967560975609756\n",
      "Iteration:  1730\n",
      "Accuracy:  0.8969756097560976\n",
      "Iteration:  1740\n",
      "Accuracy:  0.8971707317073171\n",
      "Iteration:  1750\n",
      "Accuracy:  0.8973414634146342\n",
      "Iteration:  1760\n",
      "Accuracy:  0.8974146341463415\n",
      "Iteration:  1770\n",
      "Accuracy:  0.8977804878048781\n",
      "Iteration:  1780\n",
      "Accuracy:  0.8980731707317073\n",
      "Iteration:  1790\n",
      "Accuracy:  0.8981951219512195\n",
      "Iteration:  1800\n",
      "Accuracy:  0.8983414634146342\n",
      "Iteration:  1810\n",
      "Accuracy:  0.8984634146341464\n",
      "Iteration:  1820\n",
      "Accuracy:  0.8987073170731708\n",
      "Iteration:  1830\n",
      "Accuracy:  0.8988780487804878\n",
      "Iteration:  1840\n",
      "Accuracy:  0.8990487804878049\n",
      "Iteration:  1850\n",
      "Accuracy:  0.8992926829268293\n",
      "Iteration:  1860\n",
      "Accuracy:  0.8994146341463415\n",
      "Iteration:  1870\n",
      "Accuracy:  0.8996341463414634\n",
      "Iteration:  1880\n",
      "Accuracy:  0.8997073170731708\n",
      "Iteration:  1890\n",
      "Accuracy:  0.8999756097560976\n",
      "Iteration:  1900\n",
      "Accuracy:  0.9001707317073171\n",
      "Iteration:  1910\n",
      "Accuracy:  0.9003170731707317\n",
      "Iteration:  1920\n",
      "Accuracy:  0.9004634146341464\n",
      "Iteration:  1930\n",
      "Accuracy:  0.9005121951219512\n",
      "Iteration:  1940\n",
      "Accuracy:  0.9007073170731708\n",
      "Iteration:  1950\n",
      "Accuracy:  0.9007804878048781\n",
      "Iteration:  1960\n",
      "Accuracy:  0.901\n",
      "Iteration:  1970\n",
      "Accuracy:  0.9011463414634147\n",
      "Iteration:  1980\n",
      "Accuracy:  0.9011951219512195\n",
      "Iteration:  1990\n",
      "Accuracy:  0.9013658536585366\n",
      "Iteration:  2000\n",
      "Accuracy:  0.9013658536585366\n",
      "Iteration:  2010\n",
      "Accuracy:  0.9015609756097561\n",
      "Iteration:  2020\n",
      "Accuracy:  0.9016341463414634\n",
      "Iteration:  2030\n",
      "Accuracy:  0.9018780487804878\n",
      "Iteration:  2040\n",
      "Accuracy:  0.9020975609756098\n",
      "Iteration:  2050\n",
      "Accuracy:  0.9022439024390244\n",
      "Iteration:  2060\n",
      "Accuracy:  0.9022439024390244\n",
      "Iteration:  2070\n",
      "Accuracy:  0.9024878048780488\n",
      "Iteration:  2080\n",
      "Accuracy:  0.902609756097561\n",
      "Iteration:  2090\n",
      "Accuracy:  0.902829268292683\n",
      "Iteration:  2100\n",
      "Accuracy:  0.903\n",
      "Iteration:  2110\n",
      "Accuracy:  0.9031951219512195\n",
      "Iteration:  2120\n",
      "Accuracy:  0.9033658536585366\n",
      "Iteration:  2130\n",
      "Accuracy:  0.9035121951219512\n",
      "Iteration:  2140\n",
      "Accuracy:  0.903609756097561\n",
      "Iteration:  2150\n",
      "Accuracy:  0.9037560975609756\n",
      "Iteration:  2160\n",
      "Accuracy:  0.9039268292682927\n",
      "Iteration:  2170\n",
      "Accuracy:  0.9040731707317073\n",
      "Iteration:  2180\n",
      "Accuracy:  0.9041219512195122\n",
      "Iteration:  2190\n",
      "Accuracy:  0.9041707317073171\n",
      "Iteration:  2200\n",
      "Accuracy:  0.904390243902439\n",
      "Iteration:  2210\n",
      "Accuracy:  0.9045121951219512\n",
      "Iteration:  2220\n",
      "Accuracy:  0.9046829268292683\n",
      "Iteration:  2230\n",
      "Accuracy:  0.904829268292683\n",
      "Iteration:  2240\n",
      "Accuracy:  0.9048536585365854\n",
      "Iteration:  2250\n",
      "Accuracy:  0.9050243902439025\n",
      "Iteration:  2260\n",
      "Accuracy:  0.9051219512195122\n",
      "Iteration:  2270\n",
      "Accuracy:  0.9051707317073171\n",
      "Iteration:  2280\n",
      "Accuracy:  0.9051951219512195\n",
      "Iteration:  2290\n",
      "Accuracy:  0.9053170731707317\n",
      "Iteration:  2300\n",
      "Accuracy:  0.9055365853658537\n",
      "Iteration:  2310\n",
      "Accuracy:  0.9056829268292683\n",
      "Iteration:  2320\n",
      "Accuracy:  0.9057804878048781\n",
      "Iteration:  2330\n",
      "Accuracy:  0.9058536585365854\n",
      "Iteration:  2340\n",
      "Accuracy:  0.9058536585365854\n",
      "Iteration:  2350\n",
      "Accuracy:  0.9060487804878049\n",
      "Iteration:  2360\n",
      "Accuracy:  0.9060487804878049\n",
      "Iteration:  2370\n",
      "Accuracy:  0.906\n",
      "Iteration:  2380\n",
      "Accuracy:  0.9060731707317073\n",
      "Iteration:  2390\n",
      "Accuracy:  0.9062439024390244\n",
      "Iteration:  2400\n",
      "Accuracy:  0.9062926829268293\n",
      "Iteration:  2410\n",
      "Accuracy:  0.906390243902439\n",
      "Iteration:  2420\n",
      "Accuracy:  0.9065365853658537\n",
      "Iteration:  2430\n",
      "Accuracy:  0.906609756097561\n",
      "Iteration:  2440\n",
      "Accuracy:  0.9067073170731708\n",
      "Iteration:  2450\n",
      "Accuracy:  0.9068536585365854\n",
      "Iteration:  2460\n",
      "Accuracy:  0.9069024390243903\n",
      "Iteration:  2470\n",
      "Accuracy:  0.9069512195121952\n",
      "Iteration:  2480\n",
      "Accuracy:  0.9069512195121952\n",
      "Iteration:  2490\n",
      "Accuracy:  0.9070731707317073\n",
      "Iteration:  2500\n",
      "Accuracy:  0.9072439024390244\n",
      "Iteration:  2510\n",
      "Accuracy:  0.9073414634146342\n",
      "Iteration:  2520\n",
      "Accuracy:  0.907390243902439\n",
      "Iteration:  2530\n",
      "Accuracy:  0.9074878048780488\n",
      "Iteration:  2540\n",
      "Accuracy:  0.9075609756097561\n",
      "Iteration:  2550\n",
      "Accuracy:  0.9076341463414634\n",
      "Iteration:  2560\n",
      "Accuracy:  0.9076829268292683\n",
      "Iteration:  2570\n",
      "Accuracy:  0.9077073170731708\n",
      "Iteration:  2580\n",
      "Accuracy:  0.9077317073170732\n",
      "Iteration:  2590\n",
      "Accuracy:  0.9077560975609756\n",
      "Iteration:  2600\n",
      "Accuracy:  0.9078048780487805\n",
      "Iteration:  2610\n",
      "Accuracy:  0.9079268292682927\n",
      "Iteration:  2620\n",
      "Accuracy:  0.9081463414634147\n",
      "Iteration:  2630\n",
      "Accuracy:  0.9082926829268293\n",
      "Iteration:  2640\n",
      "Accuracy:  0.9083658536585366\n",
      "Iteration:  2650\n",
      "Accuracy:  0.9085365853658537\n",
      "Iteration:  2660\n",
      "Accuracy:  0.908609756097561\n",
      "Iteration:  2670\n",
      "Accuracy:  0.9086829268292683\n",
      "Iteration:  2680\n",
      "Accuracy:  0.9088536585365854\n",
      "Iteration:  2690\n",
      "Accuracy:  0.9089268292682927\n",
      "Iteration:  2700\n",
      "Accuracy:  0.9090731707317073\n",
      "Iteration:  2710\n",
      "Accuracy:  0.9091463414634147\n",
      "Iteration:  2720\n",
      "Accuracy:  0.9091951219512195\n",
      "Iteration:  2730\n",
      "Accuracy:  0.9092926829268293\n",
      "Iteration:  2740\n",
      "Accuracy:  0.9095609756097561\n",
      "Iteration:  2750\n",
      "Accuracy:  0.9095853658536586\n",
      "Iteration:  2760\n",
      "Accuracy:  0.9095609756097561\n",
      "Iteration:  2770\n",
      "Accuracy:  0.9095853658536586\n",
      "Iteration:  2780\n",
      "Accuracy:  0.9096341463414634\n",
      "Iteration:  2790\n",
      "Accuracy:  0.9097073170731708\n",
      "Iteration:  2800\n",
      "Accuracy:  0.91\n",
      "Iteration:  2810\n",
      "Accuracy:  0.9099512195121952\n",
      "Iteration:  2820\n",
      "Accuracy:  0.9100243902439025\n",
      "Iteration:  2830\n",
      "Accuracy:  0.9101707317073171\n",
      "Iteration:  2840\n",
      "Accuracy:  0.9101707317073171\n",
      "Iteration:  2850\n",
      "Accuracy:  0.9102926829268293\n",
      "Iteration:  2860\n",
      "Accuracy:  0.9103170731707317\n",
      "Iteration:  2870\n",
      "Accuracy:  0.9103658536585366\n",
      "Iteration:  2880\n",
      "Accuracy:  0.9104634146341464\n",
      "Iteration:  2890\n",
      "Accuracy:  0.9104634146341464\n",
      "Iteration:  2900\n",
      "Accuracy:  0.9104634146341464\n",
      "Iteration:  2910\n",
      "Accuracy:  0.9107560975609756\n",
      "Iteration:  2920\n",
      "Accuracy:  0.9108780487804878\n",
      "Iteration:  2930\n",
      "Accuracy:  0.9110731707317073\n",
      "Iteration:  2940\n",
      "Accuracy:  0.9111707317073171\n",
      "Iteration:  2950\n",
      "Accuracy:  0.9113414634146342\n",
      "Iteration:  2960\n",
      "Accuracy:  0.9114146341463415\n",
      "Iteration:  2970\n",
      "Accuracy:  0.9114634146341464\n",
      "Iteration:  2980\n",
      "Accuracy:  0.9115609756097561\n",
      "Iteration:  2990\n",
      "Accuracy:  0.9117317073170732\n"
     ]
    }
   ],
   "source": [
    "W1, b1, W2, b2 = gradient_descent(X_train, Y_train, epochs, Learning_rate)"
   ]
  },
  {
   "cell_type": "code",
   "execution_count": null,
   "id": "debd0209-ed65-4a2e-bf25-b6a4a1a1b99e",
   "metadata": {
    "scrolled": true
   },
   "outputs": [],
   "source": []
  },
  {
   "cell_type": "code",
   "execution_count": 38,
   "id": "307d4798-0881-4a61-9a9a-d8ab50447a82",
   "metadata": {},
   "outputs": [],
   "source": [
    "def make_pred(X, W1, b1, W2, b2):\n",
    "    _, _, _, A2 = forward_prop(W1, b1, W2, b2, X)\n",
    "    pred = get_predictions(A2)\n",
    "    return pred"
   ]
  },
  {
   "cell_type": "code",
   "execution_count": 39,
   "id": "937ec6b2-38eb-4185-a823-d395f151e34a",
   "metadata": {},
   "outputs": [],
   "source": [
    "def test_pred(index, W1, b1, W2, b2):\n",
    "    current_img = X_train[:, index, None]\n",
    "    pred = make_pred(current_img, W1, b1, W2, b2)\n",
    "\n",
    "    label = Y_train[index]\n",
    "\n",
    "    print(\"Prediction: \",pred)\n",
    "    print(\"Label: \",label)\n",
    "\n",
    "    current_img = current_img.reshape((28, 28)) * 255\n",
    "\n",
    "    plt.gray()\n",
    "    plt.imshow(current_img, interpolation='nearest')\n",
    "    plt.show()"
   ]
  },
  {
   "cell_type": "code",
   "execution_count": null,
   "id": "b90dd02b-01d6-4b95-a610-0ab3151690bc",
   "metadata": {},
   "outputs": [],
   "source": []
  },
  {
   "cell_type": "code",
   "execution_count": 40,
   "id": "471e5eff-b745-4da5-84fc-b4aee0bf4867",
   "metadata": {},
   "outputs": [
    {
     "name": "stdout",
     "output_type": "stream",
     "text": [
      "Prediction:  [5]\n",
      "Label:  5\n"
     ]
    },
    {
     "data": {
      "image/png": "[encoded data removed]",
      "text/plain": [
       "<Figure size 640x480 with 1 Axes>"
      ]
     },
     "metadata": {},
     "output_type": "display_data"
    }
   ],
   "source": [
    "test_pred(0, W1, b1, W2, b2)"
   ]
  },
  {
   "cell_type": "code",
   "execution_count": 41,
   "id": "14a19a08-6560-4ed7-80f5-2c5309d7d6e3",
   "metadata": {},
   "outputs": [
    {
     "name": "stdout",
     "output_type": "stream",
     "text": [
      "Prediction:  [8]\n",
      "Label:  8\n"
     ]
    },
    {
     "data": {
      "image/png": "[encoded data removed]",
      "text/plain": [
       "<Figure size 640x480 with 1 Axes>"
      ]
     },
     "metadata": {},
     "output_type": "display_data"
    }
   ],
   "source": [
    "test_pred(2, W1, b1, W2, b2)"
   ]
  },
  {
   "cell_type": "code",
   "execution_count": 42,
   "id": "24578925-1573-46c3-8813-26090d9b38c8",
   "metadata": {},
   "outputs": [
    {
     "name": "stdout",
     "output_type": "stream",
     "text": [
      "Prediction:  [7]\n",
      "Label:  7\n"
     ]
    },
    {
     "data": {
      "image/png": "[encoded data removed]",
      "text/plain": [
       "<Figure size 640x480 with 1 Axes>"
      ]
     },
     "metadata": {},
     "output_type": "display_data"
    }
   ],
   "source": [
    "test_pred(3, W1, b1, W2, b2)"
   ]
  },
  {
   "cell_type": "code",
   "execution_count": 43,
   "id": "671715d7-fccd-41d3-8e8a-c9b342a0b681",
   "metadata": {},
   "outputs": [
    {
     "name": "stdout",
     "output_type": "stream",
     "text": [
      "Prediction:  [3]\n",
      "Label:  3\n"
     ]
    },
    {
     "data": {
      "image/png": "[encoded data removed]",
      "text/plain": [
       "<Figure size 640x480 with 1 Axes>"
      ]
     },
     "metadata": {},
     "output_type": "display_data"
    }
   ],
   "source": [
    "test_pred(5, W1, b1, W2, b2)"
   ]
  },
  {
   "cell_type": "code",
   "execution_count": null,
   "id": "7e2e07d2-f75c-4dfd-b146-bc5e41d39bf8",
   "metadata": {},
   "outputs": [],
   "source": []
  },
  {
   "cell_type": "code",
   "execution_count": 44,
   "id": "32e90cd6-6507-4526-a348-42ad6f6bf7ff",
   "metadata": {},
   "outputs": [
    {
     "name": "stdout",
     "output_type": "stream",
     "text": [
      "Accuracy: 91.5%\n"
     ]
    }
   ],
   "source": [
    "pred = make_pred(X_test, W1, b1, W2, b2)\n",
    "accuracy = get_accuracy(pred, Y_test)\n",
    "print(f\"Accuracy: {accuracy*100}%\")"
   ]
  },
  {
   "cell_type": "code",
   "execution_count": null,
   "id": "2fc469ae-86c8-4fb0-94e6-445220138bc0",
   "metadata": {},
   "outputs": [],
   "source": []
  },
  {
   "cell_type": "code",
   "execution_count": null,
   "id": "435d7736-20e4-4c3a-9177-7e226f077b93",
   "metadata": {},
   "outputs": [],
   "source": []
  }
 ],
 "metadata": {
  "kernelspec": {
   "display_name": "Python [conda env:base] *",
   "language": "python",
   "name": "conda-base-py"
  },
  "language_info": {
   "codemirror_mode": {
    "name": "ipython",
    "version": 3
   },
   "file_extension": ".py",
   "mimetype": "text/x-python",
   "name": "python",
   "nbconvert_exporter": "python",
   "pygments_lexer": "ipython3",
   "version": "3.12.4"
  }
 },
 "nbformat": 4,
 "nbformat_minor": 5
}
